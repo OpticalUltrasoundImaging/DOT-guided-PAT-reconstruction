{
 "cells": [
  {
   "cell_type": "code",
   "execution_count": 1,
   "id": "e9473201",
   "metadata": {},
   "outputs": [
    {
     "name": "stdout",
     "output_type": "stream",
     "text": [
      "Found 31 image folders\n"
     ]
    }
   ],
   "source": [
    "import os\n",
    "import sys\n",
    "from pathlib import Path\n",
    "import numpy as np\n",
    "repo_root = Path.cwd().parent\n",
    "sys.path.append(str(repo_root))\n",
    "\n",
    "folder_name = os.path.join(r'\\\\10.229.121.108','Workspace','PAT LINEAR','PATDOTUS','01')\n",
    "from src.load_data_utils import list_subfolders, linear_us_param, linear_pa_param\n",
    "import matplotlib.pyplot as plt\n",
    "\n",
    "all_folders = list_subfolders(folder_name)\n",
    "print(f\"Found {len(all_folders)} image folders\")\n",
    "info_US = linear_us_param()\n",
    "info_PA = linear_pa_param()"
   ]
  },
  {
   "cell_type": "code",
   "execution_count": null,
   "id": "fa724091",
   "metadata": {},
   "outputs": [
    {
     "name": "stdout",
     "output_type": "stream",
     "text": [
      "Estimated hemoglobin concentrations from DOT\n",
      "[HbO2] = 5.22379 mmol/L\n",
      "[Hb]   = 3.48574 mmol/L\n",
      "sO2    = 59.98%\n",
      "Background mua at PAT wavelengths are  [0.04072679 0.03994147 0.03705028 0.04018856]  cm⁻¹\n",
      "Background mus at PAT wavelengths are  [7.6842432  7.60231057 7.54988587 7.4743008 ]  cm⁻¹\n"
     ]
    }
   ],
   "source": [
    "# Estimate background mu at PAT wavelengths\n",
    "from src.fluence_utils import estimate_so2_from_dot, query_bkg_mua_for_pa, fit_bkg_mus_for_pa\n",
    "lambda_list_dot = [730   , 785   , 808   , 830]\n",
    "mua_list_dot    = [0.032 , 0.038 , 0.037 , 0.041]\n",
    "mus_list_dot    = [7.860 , 7.489 , 7.155 , 7.830]\n",
    "decomp_dot      = estimate_so2_from_dot(lambda_list_dot , mua_list_dot , verbose=True)\n",
    "lambda_list_pat = [775   , 780   , 800   , 830]\n",
    "bkg_mua_pat = query_bkg_mua_for_pa(lambda_list_pat , decomp_dot['c_oxy'] , decomp_dot['c_deoxy'])\n",
    "print(\"Background mua at PAT wavelengths are \" , bkg_mua_pat['Background mua'] , \" cm\\u207B\\u00B9\")\n",
    "bkg_mus_pat = fit_bkg_mus_for_pa(lambda_list_dot, mus_list_dot, lambda_list_pat)\n",
    "print(\"Background mus at PAT wavelengths are \" , bkg_mus_pat['Background mus'] , \" cm\\u207B\\u00B9\")"
   ]
  },
  {
   "cell_type": "code",
   "execution_count": null,
   "id": "887dec1c",
   "metadata": {},
   "outputs": [
    {
     "name": "stderr",
     "output_type": "stream",
     "text": [
      "                                                                  \r"
     ]
    },
    {
     "name": "stdout",
     "output_type": "stream",
     "text": [
      "mu maps initialized.\n",
      "dict_keys(['US image', 'PAT image', 'mua0', 'mus0'])\n"
     ]
    }
   ],
   "source": [
    "# Initialize mua and mus maps\n",
    "from src.recon_utils import generate_mu_init\n",
    "wavelength_index = 0\n",
    "pat_folder_index = 24\n",
    "mu_a_bkg  = bkg_mua_pat['Background mua'][wavelength_index]\n",
    "mu_sp_bkg = bkg_mus_pat['Background mus'][wavelength_index]\n",
    "bbox_cm = (-1.25, 1.25, 0.10, 3.00)\n",
    "scaling_factor = (4,5)\n",
    "dz = info_PA.c / info_PA.fc / 2.0 * scaling_factor[1] * 100.0\n",
    "dx = info_PA.c / info_PA.fc / 2.0 * scaling_factor[0] * 100.0\n",
    "pixel_cm = (dz , dx)\n",
    "input_dir = all_folders[pat_folder_index]\n",
    "res = generate_mu_init(input_dir , info_US , info_PA , \n",
    "                       mu_a_mean_cm=mu_a_bkg , mu_s_mean_cm = mu_sp_bkg,\n",
    "                       bbox_cm = bbox_cm , pixel_size_cm = pixel_cm)\n",
    "print(res.keys())"
   ]
  },
  {
   "cell_type": "code",
   "execution_count": 4,
   "id": "4e6c3649",
   "metadata": {},
   "outputs": [
    {
     "name": "stderr",
     "output_type": "stream",
     "text": [
      "<>:18: SyntaxWarning: invalid escape sequence '\\m'\n",
      "<>:18: SyntaxWarning: invalid escape sequence '\\m'\n",
      "C:\\Users\\Yixiao Lin\\AppData\\Local\\Temp\\ipykernel_17156\\2245617444.py:18: SyntaxWarning: invalid escape sequence '\\m'\n",
      "  axes[0].set_title(r\"$\\mu_a$\", fontsize=12)\n"
     ]
    },
    {
     "data": {
      "text/plain": [
       "'\\n# Plot US and PAT images\\nfig, axes = plt.subplots(1, 2, figsize=(10, 4), constrained_layout=True)\\nim0 = axes[0].imshow(res[\"US image\"], cmap=\\'gray\\', extent=[-info_US.FOV*50.0, info_US.FOV*50.0, 4.0, 0.0])\\naxes[0].set_title(r\"US\", fontsize=12)\\naxes[0].axis(\\'off\\')\\ncbar0 = fig.colorbar(im0, ax=axes[0], fraction=0.046, pad=0.04)\\ncbar0.ax.tick_params(labelsize=10)\\nim1 = axes[1].imshow(res[\"PAT image\"], cmap=\\'hot\\', extent=[-info_PA.FOV*50.0, info_PA.FOV*50.0, 4.0, 0.0])\\naxes[1].set_title(r\"PA\", fontsize=12)\\naxes[1].axis(\\'off\\')\\ncbar1 = fig.colorbar(im1, ax=axes[1], fraction=0.046, pad=0.04)\\ncbar1.ax.tick_params(labelsize=10)\\n# Plot initial mu_a and mu_s maps\\nxmin, xmax, zmin, zmax = bbox_cm\\nfig, axes = plt.subplots(1, 2, figsize=(8, 4), constrained_layout=True)\\nim0 = axes[0].imshow(res[\"mua0\"], cmap=\\'hot\\',  extent=[xmin, xmax, zmax, zmin])\\naxes[0].set_title(r\"$\\\\mu_a$\", fontsize=12)\\naxes[0].axis(\\'off\\')\\ncbar0 = fig.colorbar(im0, ax=axes[0], fraction=0.046, pad=0.04)\\ncbar0.ax.tick_params(labelsize=10)\\nim1 = axes[1].imshow(res[\"mus0\"], cmap=\\'turbo\\',  extent=[xmin, xmax, zmax, zmin])\\naxes[1].set_title(r\"$\\\\mu_s^{\\\\prime}$\", fontsize=12)\\naxes[1].axis(\\'off\\')\\ncbar1 = fig.colorbar(im1, ax=axes[1], fraction=0.046, pad=0.04)\\ncbar1.ax.tick_params(labelsize=10)\\n'"
      ]
     },
     "execution_count": 4,
     "metadata": {},
     "output_type": "execute_result"
    }
   ],
   "source": [
    "'''\n",
    "# Plot US and PAT images\n",
    "fig, axes = plt.subplots(1, 2, figsize=(10, 4), constrained_layout=True)\n",
    "im0 = axes[0].imshow(res[\"US image\"], cmap='gray', extent=[-info_US.FOV*50.0, info_US.FOV*50.0, 4.0, 0.0])\n",
    "axes[0].set_title(r\"US\", fontsize=12)\n",
    "axes[0].axis('off')\n",
    "cbar0 = fig.colorbar(im0, ax=axes[0], fraction=0.046, pad=0.04)\n",
    "cbar0.ax.tick_params(labelsize=10)\n",
    "im1 = axes[1].imshow(res[\"PAT image\"], cmap='hot', extent=[-info_PA.FOV*50.0, info_PA.FOV*50.0, 4.0, 0.0])\n",
    "axes[1].set_title(r\"PA\", fontsize=12)\n",
    "axes[1].axis('off')\n",
    "cbar1 = fig.colorbar(im1, ax=axes[1], fraction=0.046, pad=0.04)\n",
    "cbar1.ax.tick_params(labelsize=10)\n",
    "# Plot initial mu_a and mu_s maps\n",
    "xmin, xmax, zmin, zmax = bbox_cm\n",
    "fig, axes = plt.subplots(1, 2, figsize=(8, 4), constrained_layout=True)\n",
    "im0 = axes[0].imshow(res[\"mua0\"], cmap='hot',  extent=[xmin, xmax, zmax, zmin])\n",
    "axes[0].set_title(r\"$\\mu_a$\", fontsize=12)\n",
    "axes[0].axis('off')\n",
    "cbar0 = fig.colorbar(im0, ax=axes[0], fraction=0.046, pad=0.04)\n",
    "cbar0.ax.tick_params(labelsize=10)\n",
    "im1 = axes[1].imshow(res[\"mus0\"], cmap='turbo',  extent=[xmin, xmax, zmax, zmin])\n",
    "axes[1].set_title(r\"$\\mu_s^{\\prime}$\", fontsize=12)\n",
    "axes[1].axis('off')\n",
    "cbar1 = fig.colorbar(im1, ax=axes[1], fraction=0.046, pad=0.04)\n",
    "cbar1.ax.tick_params(labelsize=10)\n",
    "'''"
   ]
  },
  {
   "cell_type": "code",
   "execution_count": null,
   "id": "21878d1e",
   "metadata": {},
   "outputs": [
    {
     "name": "stdout",
     "output_type": "stream",
     "text": [
      "Imaging grid: x from -1.2 cm to 1.2 cm with dx=0.04 cm (66 points)\n",
      "              z from 0.1 cm to 3.0 cm with dz=0.05 cm (62 points)\n",
      "Time axis: 1184 points, from 0.00 us to 29.57 us\n"
     ]
    }
   ],
   "source": [
    "# Generate system matrix G\n",
    "from src.pat_utils import generate_imaging_matrix , load_pa_rf_aligned\n",
    "import cv2\n",
    "use_daq_subsampling = False\n",
    "G, G_meta = generate_imaging_matrix(bbox_cm , scaling_factor, info_PA, subsampling = use_daq_subsampling, verbose=True)\n",
    "RF_data = load_pa_rf_aligned(input_dir , G_meta , info_PA, subsample = use_daq_subsampling)\n",
    "# Make sure the shape of initialized mu maps match G\n",
    "M,N = G_meta['X'].shape # Nz = M, Nx = N\n",
    "mu_a0 = cv2.resize(res[\"mua0\"] , (N,M) , interpolation = cv2.INTER_LINEAR)\n",
    "mu_a0 = mu_a0.flatten(order='C')\n",
    "mu_s0 = cv2.resize(res[\"mus0\"] , (N,M) , interpolation = cv2.INTER_LINEAR)\n",
    "mu_s0 = mu_s0.flatten(order='C')"
   ]
  },
  {
   "cell_type": "code",
   "execution_count": null,
   "id": "0209a6c7",
   "metadata": {},
   "outputs": [],
   "source": [
    "# Main reconstruction function\n",
    "# For N_iter = 50, it will take ~10 minutes\n",
    "from src.recon_utils import optimize_mu_maps_regularize\n",
    "N_iter = 50\n",
    "lambda_mua = 0.25\n",
    "lambda_mus = 1e-2\n",
    "mu_a , mu_s , history = optimize_mu_maps_regularize(RF_data,\n",
    "                                                    G,\n",
    "                                                    mu_a_init = mu_a0,\n",
    "                                                    mu_s_init = mu_s0,\n",
    "                                                    global_mu_a_avg = mu_a_bkg,\n",
    "                                                    global_mu_s_avg = mu_sp_bkg,\n",
    "                                                    grid_shape = (M,N),\n",
    "                                                    grid_spacing = pixel_cm,\n",
    "                                                    n_iters = N_iter,\n",
    "                                                    lam_mu_a = lambda_mua,\n",
    "                                                    mu_s_step = 1e-5,\n",
    "                                                    mu_s_reg_lambda = lambda_mus,\n",
    "                                                    verbose = True,\n",
    "                                                    )\n",
    "print(\"Reconstruction complete.\")\n",
    "print(history.keys())"
   ]
  },
  {
   "cell_type": "code",
   "execution_count": null,
   "id": "e0f176ad",
   "metadata": {},
   "outputs": [],
   "source": [
    "it = np.arange(N_iter)\n",
    "fig, ax1 = plt.subplots(figsize=(6, 4))\n",
    "\n",
    "# Left y-axis (log scale)\n",
    "ax1.plot(it, history['mua frac change'], 'b-', label='Fractional change in mua')\n",
    "ax1.set_xlabel('X-axis')\n",
    "ax1.set_ylabel('Y1', color='b')\n",
    "ax1.set_yscale('log')\n",
    "ax1.tick_params(axis='y', labelcolor='b')\n",
    "\n",
    "# Right y-axis (log scale)\n",
    "ax2 = ax1.twinx()\n",
    "ax2.plot(it, history['mus frac change'], 'r--', label='Fractional change in mus')\n",
    "ax2.set_ylabel('Y2', color='r')\n",
    "ax2.set_yscale('log')\n",
    "ax2.tick_params(axis='y', labelcolor='r')\n",
    "\n",
    "# Optional: grid and title\n",
    "ax1.grid(True, which='both', linestyle='--', alpha=0.6)\n",
    "# Add legends (handle both axes)\n",
    "lines, labels = ax1.get_legend_handles_labels()\n",
    "lines2, labels2 = ax2.get_legend_handles_labels()\n",
    "ax1.legend(lines + lines2, labels + labels2, loc='best')\n",
    "\n",
    "plt.tight_layout()\n",
    "plt.show()"
   ]
  },
  {
   "cell_type": "code",
   "execution_count": null,
   "id": "8272b72b",
   "metadata": {},
   "outputs": [],
   "source": [
    "# Plot initial mu_a and mu_s maps\n",
    "import cv2\n",
    "from scipy.signal import hilbert\n",
    "idx_iter_opt = N_iter-1\n",
    "mu_a_final = history['mua hist'][idx_iter_opt]\n",
    "mu_a_final = mu_a_final.reshape(G_meta['X'].shape, order='C')\n",
    "mu_a_final = abs(hilbert(mu_a_final, axis=0))\n",
    "mu_a_final = cv2.bilateralFilter(src = cv2.blur(np.asarray(mu_a_final,dtype=np.float32),(2,2)),  d=0, sigmaColor = 0.05, sigmaSpace = 3)\n",
    "mu_s_final = history['mus hist'][idx_iter_opt]\n",
    "mu_s_final = mu_s_final.reshape(G_meta['X'].shape, order='C')\n",
    "np.save('mua-830.npy',mu_a_final)\n",
    "#mu_s_final = cv2.bilateralFilter(src = np.asarray(mu_s_final,dtype=np.float32),  d=0, sigmaColor = 0.5, sigmaSpace = 3)\n",
    "\n",
    "xmin, xmax, zmin, zmax = bbox_cm\n",
    "fig, axes = plt.subplots(2,2, figsize=(4, 4), constrained_layout=True, dpi=400)\n",
    "axes = axes.flatten()\n",
    "im0 = axes[0].imshow(res[\"mua0\"], cmap='hot',  extent=[xmin, xmax, zmax, zmin])\n",
    "axes[0].set_title(r\"Initial $\\mu_a$\", fontsize=12)\n",
    "axes[0].axis('off')\n",
    "cbar0 = fig.colorbar(im0, ax=axes[0], fraction=0.046, pad=0.04)\n",
    "cbar0.ax.tick_params(labelsize=10)\n",
    "im1 = axes[1].imshow(res[\"mus0\"], cmap='turbo',  extent=[xmin, xmax, zmax, zmin])\n",
    "axes[1].set_title(r\"Initial $\\mu_s^{\\prime}$\", fontsize=12)\n",
    "axes[1].axis('off')\n",
    "cbar1 = fig.colorbar(im1, ax=axes[1], fraction=0.046, pad=0.04)\n",
    "cbar1.ax.tick_params(labelsize=10)\n",
    "\n",
    "im2 = axes[2].imshow(mu_a_final, cmap='hot',  extent=[xmin, xmax, zmax, zmin])\n",
    "axes[2].set_title(r\"Optimized $\\mu_a$\", fontsize=12)\n",
    "axes[2].axis('off')\n",
    "cbar2 = fig.colorbar(im2, ax=axes[2], fraction=0.046, pad=0.04)\n",
    "cbar2.ax.tick_params(labelsize=10)\n",
    "im3 = axes[3].imshow(mu_s_final, cmap='turbo',  extent=[xmin, xmax, zmax, zmin])\n",
    "axes[3].set_title(r\"Optimized $\\mu_s^{\\prime}$\", fontsize=12)\n",
    "axes[3].axis('off')\n",
    "cbar3 = fig.colorbar(im3, ax=axes[3], fraction=0.046, pad=0.04)\n",
    "cbar3.ax.tick_params(labelsize=10)"
   ]
  },
  {
   "cell_type": "code",
   "execution_count": null,
   "id": "031fc3ea",
   "metadata": {},
   "outputs": [],
   "source": [
    "'''\n",
    "mu_a_final_b = cv2.resize(mu_a_final, (N*4, M*4), interpolation = cv2.INTER_LANCZOS4)\n",
    "mu_s_final_b = cv2.resize(mu_s_final, (N*4, M*4), interpolation = cv2.INTER_LANCZOS4)\n",
    "xmin, xmax, zmin, zmax = bbox_cm\n",
    "fig, axes = plt.subplots(1, 2, figsize=(8, 4), constrained_layout=True)\n",
    "im0 = axes[0].imshow(mu_a_final_b, cmap='hot',  extent=[xmin, xmax, zmax, zmin])\n",
    "axes[0].set_title(r\"$\\mu_a$\", fontsize=12)\n",
    "axes[0].axis('off')\n",
    "cbar0 = fig.colorbar(im0, ax=axes[0], fraction=0.046, pad=0.04)\n",
    "cbar0.ax.tick_params(labelsize=10)\n",
    "im1 = axes[1].imshow(mu_s_final_b, cmap='turbo',  extent=[xmin, xmax, zmax, zmin])\n",
    "axes[1].set_title(r\"$\\mu_s^{\\prime}$\", fontsize=12)\n",
    "axes[1].axis('off')\n",
    "cbar1 = fig.colorbar(im1, ax=axes[1], fraction=0.046, pad=0.04)\n",
    "cbar1.ax.tick_params(labelsize=10)\n",
    "'''"
   ]
  }
 ],
 "metadata": {
  "kernelspec": {
   "display_name": "dotpat",
   "language": "python",
   "name": "python3"
  },
  "language_info": {
   "codemirror_mode": {
    "name": "ipython",
    "version": 3
   },
   "file_extension": ".py",
   "mimetype": "text/x-python",
   "name": "python",
   "nbconvert_exporter": "python",
   "pygments_lexer": "ipython3",
   "version": "3.13.7"
  }
 },
 "nbformat": 4,
 "nbformat_minor": 5
}
