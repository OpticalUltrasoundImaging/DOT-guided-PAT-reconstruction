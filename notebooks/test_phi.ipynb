{
 "cells": [
  {
   "cell_type": "code",
   "execution_count": 1,
   "id": "782e7149",
   "metadata": {},
   "outputs": [],
   "source": [
    "import os\n",
    "import sys\n",
    "from pathlib import Path\n",
    "repo_root = Path.cwd().parent\n",
    "sys.path.append(str(repo_root))"
   ]
  },
  {
   "cell_type": "code",
   "execution_count": null,
   "id": "f0a9a834",
   "metadata": {},
   "outputs": [
    {
     "name": "stdout",
     "output_type": "stream",
     "text": [
      "Estimated hemoglobin concentrations from DOT\n",
      "[HbO2] = 5.22379 mmol/L\n",
      "[Hb]   = 3.48574 mmol/L\n",
      "sO2    = 59.98%\n",
      "Background mua at PAT wavelengths are  [0.04072679 0.03994147 0.03705028 0.04018856]\n",
      "Background mus at PAT wavelengths are  [7.6842432  7.60231057 7.54988587 7.4743008 ]\n"
     ]
    }
   ],
   "source": [
    "from src.fluence_utils import estimate_so2_from_dot, query_bkg_mua_for_pa, fit_bkg_mus_for_pa\n",
    "lambda_list_dot = [730   , 785   , 808   , 830]\n",
    "mua_list_dot    = [0.032 , 0.038 , 0.037 , 0.041]\n",
    "mus_list_dot    = [7.860 , 7.489 , 7.155 , 7.830]\n",
    "decomp_dot      = estimate_so2_from_dot(lambda_list_dot , mua_list_dot , verbose=True)\n",
    "lambda_list_pat = [750   , 780   , 800   , 830]\n",
    "bkg_mua_pat = query_bkg_mua_for_pa(lambda_list_pat , decomp_dot['c_oxy'] , decomp_dot['c_deoxy'])\n",
    "print(\"Background mua at PAT wavelengths are \" , bkg_mua_pat['Background mua'] , \" cm\\u207B\\u00B9\")\n",
    "bkg_mus_pat = fit_bkg_mus_for_pa(lambda_list_dot, mus_list_dot, lambda_list_pat)\n",
    "print(\"Background mus at PAT wavelengths are \" , bkg_mus_pat['Background mus'] , \" cm\\u207B\\u00B9\")"
   ]
  }
 ],
 "metadata": {
  "kernelspec": {
   "display_name": "dotpat",
   "language": "python",
   "name": "python3"
  },
  "language_info": {
   "codemirror_mode": {
    "name": "ipython",
    "version": 3
   },
   "file_extension": ".py",
   "mimetype": "text/x-python",
   "name": "python",
   "nbconvert_exporter": "python",
   "pygments_lexer": "ipython3",
   "version": "3.13.7"
  }
 },
 "nbformat": 4,
 "nbformat_minor": 5
}
