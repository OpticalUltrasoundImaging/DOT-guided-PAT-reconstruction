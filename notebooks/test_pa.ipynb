{
 "cells": [
  {
   "cell_type": "code",
   "execution_count": 1,
   "id": "5267ae89",
   "metadata": {},
   "outputs": [
    {
     "name": "stdout",
     "output_type": "stream",
     "text": [
      "Found 16 image folders\n"
     ]
    }
   ],
   "source": [
    "import os\n",
    "import sys\n",
    "from pathlib import Path\n",
    "import numpy as np\n",
    "from scipy.ndimage import zoom\n",
    "\n",
    "repo_root = Path.cwd().parent\n",
    "sys.path.append(str(repo_root))\n",
    "\n",
    "#folder_name = os.path.join(r'\\\\10.229.121.108','Workspace','PAT LINEAR','PATDOTUS','01')\n",
    "folder_name = os.path.join(r'\\\\10.229.121.108','Workspace','PAT LINEAR','20240703 PAT TEST','Lukai','sni060_z1_scan1')\n",
    "\n",
    "from src.load_data_utils import list_subfolders, linear_pa_param\n",
    "from src.pat_utils import pa_das_linear, apply_tgc, pa_inverse_recon\n",
    "import matplotlib.pyplot as plt\n",
    "\n",
    "all_folders = list_subfolders(folder_name)\n",
    "print(f\"Found {len(all_folders)} image folders\")\n",
    "info = linear_pa_param()"
   ]
  },
  {
   "cell_type": "code",
   "execution_count": null,
   "id": "cd58997c",
   "metadata": {},
   "outputs": [],
   "source": [
    "input_dir = all_folders[9]\n",
    "apod_method = 'hann'\n",
    "coherence_method = 'cf'\n",
    "Z_display = 4e-2\n",
    "RF_Sum, RF_env_raw = pa_das_linear(input_dir, info, apod_method, coherence_method)"
   ]
  },
  {
   "cell_type": "code",
   "execution_count": null,
   "id": "dad9a28c",
   "metadata": {},
   "outputs": [],
   "source": [
    "# Dynamic Ranging\n",
    "dB_PA = 45\n",
    "min_dB = 10 ** (-dB_PA / 20.0)\n",
    "#RF_tgc = apply_tgc(RF_env_raw, info, alpha=20.0)\n",
    "RF_tgc = RF_env_raw  # without TGC\n",
    "RF_env_norm = RF_tgc / np.max(RF_tgc) if np.max(RF_tgc) != 0 else RF_tgc\n",
    "# RF_log = (20/dB_US)*log10(RF_env_norm)+1\n",
    "with np.errstate(divide='ignore', invalid='ignore'):\n",
    "    RF_log = (20.0 / dB_PA) * np.log10(np.maximum(RF_env_norm, 1e-20)) + 1.0\n",
    "RF_log[RF_env_norm < min_dB] = 0.0\n",
    "    \n",
    "# Compute target image size\n",
    "z_range = np.max(info.d_sample)\n",
    "xz_ratio = info.FOV / z_range\n",
    "Lx = int(4 * info.N_sc * 2.0/3.0)\n",
    "Lz = int(round(4 * info.N_sc / xz_ratio)) if xz_ratio != 0 else RF_log.shape[0]\n",
    "# Use scipy.ndimage.zoom to resize to (Lz, Lx)\n",
    "zoom_z = Lz / RF_log.shape[0] if RF_log.shape[0] > 0 else 1.0\n",
    "zoom_x = Lx / RF_log.shape[1] if RF_log.shape[1] > 0 else 1.0\n",
    "RF_log_resized = zoom(RF_log, (zoom_z, zoom_x), order=1)\n",
    "print(RF_log_resized.shape)\n",
    "idx_z = int(Z_display / z_range * RF_log_resized.shape[0])\n",
    "print(f\"Display at z={Z_display*1e3:.1f} mm, index {idx_z} of {RF_log_resized.shape[0]}\")\n",
    "plt.imshow(RF_log_resized[0:idx_z,:], cmap='hot', vmin=0.0, vmax=1.0, origin='upper', extent=[-info.FOV*50.0, info.FOV*50.0, Z_display*100, 0])\n",
    "plt.show()"
   ]
  },
  {
   "cell_type": "code",
   "execution_count": 2,
   "id": "340664da",
   "metadata": {},
   "outputs": [
    {
     "name": "stdout",
     "output_type": "stream",
     "text": [
      "Imaging grid: x from -0.8 cm to 0.8 cm with dx=0.03 cm (57 points)\n",
      "              z from 1.0 cm to 2.8 cm with dz=0.03 cm (62 points)\n",
      "Time axis: 1093 points, from 0.00 us to 27.30 us\n",
      "System matrix generated. G has shape (139904, 3534) (dtype=float32)\n",
      "System matrix generated.\n",
      "Imaging grid shape: Z 62, X 57\n",
      "System matrix normalized.\n",
      "Raw PA data loaded and preprocessed.\n",
      "Starting reconstruction...\n",
      "ADMM iter   1: obj=9.310218e+04, prim_res=7.792e+01, dual_res=7.939e+01, eps_primal=1.172e-01, eps_dual=8.387e-02\n",
      "ADMM iter   2: obj=9.423827e+04, prim_res=2.595e+01, dual_res=5.468e+01, eps_primal=1.421e-01, eps_dual=1.089e-01\n",
      "ADMM iter   3: obj=9.492953e+04, prim_res=8.536e+00, dual_res=3.412e+01, eps_primal=1.733e-01, eps_dual=1.135e-01\n",
      "ADMM iter   4: obj=9.513776e+04, prim_res=6.233e+00, dual_res=2.010e+01, eps_primal=1.925e-01, eps_dual=1.115e-01\n",
      "ADMM iter   5: obj=9.511682e+04, prim_res=5.388e+00, dual_res=1.157e+01, eps_primal=2.030e-01, eps_dual=1.082e-01\n",
      "ADMM iter   6: obj=9.502461e+04, prim_res=4.025e+00, dual_res=6.665e+00, eps_primal=2.087e-01, eps_dual=1.055e-01\n",
      "ADMM iter   7: obj=9.493009e+04, prim_res=2.702e+00, dual_res=3.911e+00, eps_primal=2.116e-01, eps_dual=1.035e-01\n",
      "ADMM iter   8: obj=9.485713e+04, prim_res=1.694e+00, dual_res=2.375e+00, eps_primal=2.131e-01, eps_dual=1.023e-01\n",
      "ADMM iter   9: obj=9.480763e+04, prim_res=1.020e+00, dual_res=1.497e+00, eps_primal=2.139e-01, eps_dual=1.016e-01\n",
      "ADMM iter  10: obj=9.477673e+04, prim_res=6.048e-01, dual_res=9.744e-01, eps_primal=2.143e-01, eps_dual=1.011e-01\n",
      "ADMM iter  11: obj=9.475851e+04, prim_res=3.606e-01, dual_res=6.475e-01, eps_primal=2.146e-01, eps_dual=1.009e-01\n",
      "ADMM iter  12: obj=9.474823e+04, prim_res=2.182e-01, dual_res=4.378e-01, eps_primal=2.147e-01, eps_dual=1.008e-01\n",
      "ADMM iter  13: obj=9.474261e+04, prim_res=1.357e-01, dual_res=3.000e-01, eps_primal=2.148e-01, eps_dual=1.007e-01\n",
      "ADMM iter  14: obj=9.473960e+04, prim_res=8.667e-02, dual_res=2.080e-01, eps_primal=2.148e-01, eps_dual=1.007e-01\n",
      "ADMM iter  15: obj=9.473798e+04, prim_res=5.677e-02, dual_res=1.457e-01, eps_primal=2.149e-01, eps_dual=1.006e-01\n",
      "ADMM iter  16: obj=9.473712e+04, prim_res=3.790e-02, dual_res=1.029e-01, eps_primal=2.149e-01, eps_dual=1.006e-01\n",
      "ADMM iter  17: obj=9.473665e+04, prim_res=2.574e-02, dual_res=7.312e-02, eps_primal=2.149e-01, eps_dual=1.006e-01\n",
      "Converged (ADMM iter 17).\n",
      "Reconstruction completed.\n"
     ]
    },
    {
     "data": {
      "text/plain": [
       "'\\nZ_increment = 0.25\\nxmin, xmax, zmin, zmax = bbox_cm_whole\\nL_strips = int((zmax - zmin) / Z_increment)\\nmua_raw = None\\nfor i in range(L_strips):\\n    z_start = zmin + i * Z_increment\\n    z_end = z_start + Z_increment\\n    bbox_cm_1 = (xmin, xmax, z_start, z_end)\\n    print(f\"Reconstructing strip {i+1}/{L_strips}, z = {z_start:.2f} to {z_end:.2f} cm\")\\n    mua_raw1 , _ = pa_inverse_recon(input_dir, info, bbox_cm_1 , scaling_factor, solver_method = \\'l2\\', verbose=True)\\n    if i == 0:\\n        mua_raw = mua_raw1\\n    else:\\n        mua_raw = np.concatenate((mua_raw, mua_raw1), axis=0)\\n'"
      ]
     },
     "execution_count": 2,
     "metadata": {},
     "output_type": "execute_result"
    }
   ],
   "source": [
    "input_dir = all_folders[9]\n",
    "bbox_cm_whole = (-0.8, 0.8, 1.0, 2.75)\n",
    "scaling_factor = (3, 3)\n",
    "mua_raw , _ = pa_inverse_recon(input_dir, info, bbox_cm_whole , scaling_factor, solver_method = 'l1', verbose=True)\n",
    "\n",
    "'''\n",
    "Z_increment = 0.25\n",
    "xmin, xmax, zmin, zmax = bbox_cm_whole\n",
    "L_strips = int((zmax - zmin) / Z_increment)\n",
    "mua_raw = None\n",
    "for i in range(L_strips):\n",
    "    z_start = zmin + i * Z_increment\n",
    "    z_end = z_start + Z_increment\n",
    "    bbox_cm_1 = (xmin, xmax, z_start, z_end)\n",
    "    print(f\"Reconstructing strip {i+1}/{L_strips}, z = {z_start:.2f} to {z_end:.2f} cm\")\n",
    "    mua_raw1 , _ = pa_inverse_recon(input_dir, info, bbox_cm_1 , scaling_factor, solver_method = 'l2', verbose=True)\n",
    "    if i == 0:\n",
    "        mua_raw = mua_raw1\n",
    "    else:\n",
    "        mua_raw = np.concatenate((mua_raw, mua_raw1), axis=0)\n",
    "'''"
   ]
  },
  {
   "cell_type": "code",
   "execution_count": 5,
   "id": "aa5809d1",
   "metadata": {},
   "outputs": [
    {
     "data": {
      "image/png": "[encoded data removed]",
      "text/plain": [
       "<Figure size 640x480 with 2 Axes>"
      ]
     },
     "metadata": {},
     "output_type": "display_data"
    }
   ],
   "source": [
    "xmin, xmax, zmin, zmax = bbox_cm_whole\n",
    "plt.imshow(mua_raw, cmap='hot', extent=[xmin, xmax, zmax, zmin], \n",
    "vmin=3.5, vmax=30)\n",
    "plt.colorbar()\n",
    "plt.show()"
   ]
  },
  {
   "cell_type": "code",
   "execution_count": null,
   "id": "a4854201",
   "metadata": {},
   "outputs": [],
   "source": [
    "Nt = meta['t'].size  # number of time samples per element\n",
    "Nz, Nx = meta['Z'].shape\n",
    "spatial_index = 100\n",
    "\n",
    "iz = spatial_index // Nx\n",
    "ix = spatial_index % Nx\n",
    "x = meta['X'][iz, ix]\n",
    "z = meta['Z'][iz, ix]\n",
    "print(f\"Voxel index {spatial_index} at (x,z)=({x*100:.1f} cm, {z*100:.1f} cm)\")\n",
    "\n",
    "t_tilde = np.sqrt(x ** 2 + z ** 2) / info.c\n",
    "print(f\"Theoretical arrival time {t_tilde*1e6:.2f} us\")"
   ]
  },
  {
   "cell_type": "code",
   "execution_count": null,
   "id": "fd4731c2",
   "metadata": {},
   "outputs": [],
   "source": [
    "g_test = G[: , spatial_index].reshape(int(info.N_ele), -1).T\n",
    "sir_max, sir_min = g_test.max(), g_test.min()\n",
    "sir_max = np.max(np.abs([sir_max, sir_min]))\n",
    "plt.figure(figsize=(8,6))\n",
    "for ie in range(128):\n",
    "    plt.plot(np.arange(Nt)/info.fs*1e6, g_test[:,ie] + ie*sir_max)  # offset for visualization\n",
    "plt.xlabel('Time [µs]')\n",
    "plt.ylabel('Element # (offset for clarity)')\n",
    "plt.title('Element responses for a single voxel')\n",
    "plt.show()"
   ]
  },
  {
   "cell_type": "code",
   "execution_count": null,
   "id": "c7474ada",
   "metadata": {},
   "outputs": [],
   "source": [
    "element_idx = 68  # for example\n",
    "# Extract G rows corresponding to the element\n",
    "rows = slice(element_idx*Nt, (element_idx+1)*Nt)  # time indices for this element\n",
    "G_element = G[rows, :]  # shape (Nt, Nvox)\n",
    "sensitivity_map = np.sum(np.abs(G_element), axis=0)  # shape (Nvox,)\n",
    "sensitivity_map = sensitivity_map.reshape(Nz, Nx) \n",
    "x_min, x_max, z_min, z_max = bbox_cm\n",
    "plt.figure(figsize=(6,5))\n",
    "plt.imshow(sensitivity_map, origin='lower', extent=[x_min, x_max, z_min, z_max],\n",
    "           aspect='auto', cmap='viridis')\n",
    "plt.colorbar(label='Sensitivity (a.u.)')\n",
    "plt.xlabel('x [cm]')\n",
    "plt.ylabel('z [cm]')\n",
    "plt.title(f'Spatial Sensitivity Map: Element {element_idx}')\n",
    "plt.show()"
   ]
  }
 ],
 "metadata": {
  "kernelspec": {
   "display_name": "dotpat",
   "language": "python",
   "name": "python3"
  },
  "language_info": {
   "codemirror_mode": {
    "name": "ipython",
    "version": 3
   },
   "file_extension": ".py",
   "mimetype": "text/x-python",
   "name": "python",
   "nbconvert_exporter": "python",
   "pygments_lexer": "ipython3",
   "version": "3.13.7"
  }
 },
 "nbformat": 4,
 "nbformat_minor": 5
}
