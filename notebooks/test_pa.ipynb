{
 "cells": [
  {
   "cell_type": "code",
   "execution_count": 1,
   "id": "5267ae89",
   "metadata": {},
   "outputs": [
    {
     "name": "stdout",
     "output_type": "stream",
     "text": [
      "Found 16 image folders\n"
     ]
    }
   ],
   "source": [
    "import os\n",
    "import sys\n",
    "from pathlib import Path\n",
    "import numpy as np\n",
    "from scipy.ndimage import zoom\n",
    "\n",
    "repo_root = Path.cwd().parent\n",
    "sys.path.append(str(repo_root))\n",
    "\n",
    "#folder_name = os.path.join(r'\\\\10.229.121.108','Workspace','PAT LINEAR','PATDOTUS','01')\n",
    "folder_name = os.path.join(r'\\\\10.229.121.108','Workspace','PAT LINEAR','20240703 PAT TEST','Lukai','sni060_z1_scan1')\n",
    "\n",
    "from src.load_data_utils import list_subfolders, linear_pa_param\n",
    "from src.pat_utils import pa_das_linear, apply_tgc, pa_inverse_recon\n",
    "import matplotlib.pyplot as plt\n",
    "\n",
    "all_folders = list_subfolders(folder_name)\n",
    "print(f\"Found {len(all_folders)} image folders\")\n",
    "info = linear_pa_param()"
   ]
  },
  {
   "cell_type": "code",
   "execution_count": null,
   "id": "cd58997c",
   "metadata": {},
   "outputs": [],
   "source": [
    "input_dir = all_folders[9]\n",
    "apod_method = 'hann'\n",
    "coherence_method = 'cf'\n",
    "Z_display = 4e-2\n",
    "RF_Sum, RF_env_raw = pa_das_linear(input_dir, info, apod_method, coherence_method)"
   ]
  },
  {
   "cell_type": "code",
   "execution_count": null,
   "id": "dad9a28c",
   "metadata": {},
   "outputs": [],
   "source": [
    "# Dynamic Ranging\n",
    "dB_PA = 45\n",
    "min_dB = 10 ** (-dB_PA / 20.0)\n",
    "#RF_tgc = apply_tgc(RF_env_raw, info, alpha=20.0)\n",
    "RF_tgc = RF_env_raw  # without TGC\n",
    "RF_env_norm = RF_tgc / np.max(RF_tgc) if np.max(RF_tgc) != 0 else RF_tgc\n",
    "# RF_log = (20/dB_US)*log10(RF_env_norm)+1\n",
    "with np.errstate(divide='ignore', invalid='ignore'):\n",
    "    RF_log = (20.0 / dB_PA) * np.log10(np.maximum(RF_env_norm, 1e-20)) + 1.0\n",
    "RF_log[RF_env_norm < min_dB] = 0.0\n",
    "    \n",
    "# Compute target image size\n",
    "z_range = np.max(info.d_sample)\n",
    "xz_ratio = info.FOV / z_range\n",
    "Lx = int(4 * info.N_sc * 2.0/3.0)\n",
    "Lz = int(round(4 * info.N_sc / xz_ratio)) if xz_ratio != 0 else RF_log.shape[0]\n",
    "# Use scipy.ndimage.zoom to resize to (Lz, Lx)\n",
    "zoom_z = Lz / RF_log.shape[0] if RF_log.shape[0] > 0 else 1.0\n",
    "zoom_x = Lx / RF_log.shape[1] if RF_log.shape[1] > 0 else 1.0\n",
    "RF_log_resized = zoom(RF_log, (zoom_z, zoom_x), order=1)\n",
    "print(RF_log_resized.shape)\n",
    "idx_z = int(Z_display / z_range * RF_log_resized.shape[0])\n",
    "print(f\"Display at z={Z_display*1e3:.1f} mm, index {idx_z} of {RF_log_resized.shape[0]}\")\n",
    "plt.imshow(RF_log_resized[0:idx_z,:], cmap='hot', vmin=0.0, vmax=1.0, origin='upper', extent=[-info.FOV*50.0, info.FOV*50.0, Z_display*100, 0])\n",
    "plt.show()"
   ]
  },
  {
   "cell_type": "code",
   "execution_count": null,
   "id": "340664da",
   "metadata": {},
   "outputs": [
    {
     "name": "stdout",
     "output_type": "stream",
     "text": [
      "Imaging grid: x from -0.8 cm to 0.8 cm with dx=0.03 cm (57 points)\n",
      "              z from 1.0 cm to 2.8 cm with dz=0.03 cm (62 points)\n",
      "Time axis: 1093 points, from 0.00 us to 27.30 us\n"
     ]
    }
   ],
   "source": [
    "input_dir = all_folders[9]\n",
    "bbox_cm_whole = (-0.8, 0.8, 1.0, 2.75)\n",
    "scaling_factor = (3, 3)\n",
    "mua_raw , _ = pa_inverse_recon(input_dir, info, bbox_cm_whole , scaling_factor, solver_method = 'l1', verbose=True)\n",
    "\n",
    "'''\n",
    "Z_increment = 0.25\n",
    "xmin, xmax, zmin, zmax = bbox_cm_whole\n",
    "L_strips = int((zmax - zmin) / Z_increment)\n",
    "mua_raw = None\n",
    "for i in range(L_strips):\n",
    "    z_start = zmin + i * Z_increment\n",
    "    z_end = z_start + Z_increment\n",
    "    bbox_cm_1 = (xmin, xmax, z_start, z_end)\n",
    "    print(f\"Reconstructing strip {i+1}/{L_strips}, z = {z_start:.2f} to {z_end:.2f} cm\")\n",
    "    mua_raw1 , _ = pa_inverse_recon(input_dir, info, bbox_cm_1 , scaling_factor, solver_method = 'l2', verbose=True)\n",
    "    if i == 0:\n",
    "        mua_raw = mua_raw1\n",
    "    else:\n",
    "        mua_raw = np.concatenate((mua_raw, mua_raw1), axis=0)\n",
    "'''"
   ]
  },
  {
   "cell_type": "code",
   "execution_count": null,
   "id": "aa5809d1",
   "metadata": {},
   "outputs": [],
   "source": [
    "xmin, xmax, zmin, zmax = bbox_cm_whole\n",
    "plt.imshow(mua_raw, cmap='hot', extent=[xmin, xmax, zmax, zmin], \n",
    "vmin=4.0, vmax=30)\n",
    "plt.colorbar()\n",
    "plt.show()"
   ]
  },
  {
   "cell_type": "code",
   "execution_count": null,
   "id": "a4854201",
   "metadata": {},
   "outputs": [],
   "source": [
    "Nt = meta['t'].size  # number of time samples per element\n",
    "Nz, Nx = meta['Z'].shape\n",
    "spatial_index = 100\n",
    "\n",
    "iz = spatial_index // Nx\n",
    "ix = spatial_index % Nx\n",
    "x = meta['X'][iz, ix]\n",
    "z = meta['Z'][iz, ix]\n",
    "print(f\"Voxel index {spatial_index} at (x,z)=({x*100:.1f} cm, {z*100:.1f} cm)\")\n",
    "\n",
    "t_tilde = np.sqrt(x ** 2 + z ** 2) / info.c\n",
    "print(f\"Theoretical arrival time {t_tilde*1e6:.2f} us\")"
   ]
  },
  {
   "cell_type": "code",
   "execution_count": null,
   "id": "fd4731c2",
   "metadata": {},
   "outputs": [],
   "source": [
    "g_test = G[: , spatial_index].reshape(int(info.N_ele), -1).T\n",
    "sir_max, sir_min = g_test.max(), g_test.min()\n",
    "sir_max = np.max(np.abs([sir_max, sir_min]))\n",
    "plt.figure(figsize=(8,6))\n",
    "for ie in range(128):\n",
    "    plt.plot(np.arange(Nt)/info.fs*1e6, g_test[:,ie] + ie*sir_max)  # offset for visualization\n",
    "plt.xlabel('Time [µs]')\n",
    "plt.ylabel('Element # (offset for clarity)')\n",
    "plt.title('Element responses for a single voxel')\n",
    "plt.show()"
   ]
  },
  {
   "cell_type": "code",
   "execution_count": null,
   "id": "c7474ada",
   "metadata": {},
   "outputs": [],
   "source": [
    "element_idx = 68  # for example\n",
    "# Extract G rows corresponding to the element\n",
    "rows = slice(element_idx*Nt, (element_idx+1)*Nt)  # time indices for this element\n",
    "G_element = G[rows, :]  # shape (Nt, Nvox)\n",
    "sensitivity_map = np.sum(np.abs(G_element), axis=0)  # shape (Nvox,)\n",
    "sensitivity_map = sensitivity_map.reshape(Nz, Nx) \n",
    "x_min, x_max, z_min, z_max = bbox_cm\n",
    "plt.figure(figsize=(6,5))\n",
    "plt.imshow(sensitivity_map, origin='lower', extent=[x_min, x_max, z_min, z_max],\n",
    "           aspect='auto', cmap='viridis')\n",
    "plt.colorbar(label='Sensitivity (a.u.)')\n",
    "plt.xlabel('x [cm]')\n",
    "plt.ylabel('z [cm]')\n",
    "plt.title(f'Spatial Sensitivity Map: Element {element_idx}')\n",
    "plt.show()"
   ]
  }
 ],
 "metadata": {
  "kernelspec": {
   "display_name": "dotpat",
   "language": "python",
   "name": "python3"
  },
  "language_info": {
   "codemirror_mode": {
    "name": "ipython",
    "version": 3
   },
   "file_extension": ".py",
   "mimetype": "text/x-python",
   "name": "python",
   "nbconvert_exporter": "python",
   "pygments_lexer": "ipython3",
   "version": "3.13.7"
  }
 },
 "nbformat": 4,
 "nbformat_minor": 5
}
