{
 "cells": [
  {
   "cell_type": "code",
   "execution_count": 14,
   "id": "d84bd2e5",
   "metadata": {},
   "outputs": [],
   "source": [
    "import os\n",
    "import sys\n",
    "from scipy import io as spio"
   ]
  },
  {
   "cell_type": "code",
   "execution_count": null,
   "id": "784d2480",
   "metadata": {},
   "outputs": [
    {
     "name": "stdout",
     "output_type": "stream",
     "text": [
      "31\n"
     ]
    }
   ],
   "source": [
    "folder_name = os.path.join(r'\\\\10.229.121.108','Workspace','PAT LINEAR','PATDOTUS','01')\n",
    "all_items = os.listdir(folder_name)\n",
    "all_folders = [os.path.join(folder_name, f) for f in all_items if os.path.isdir(os.path.join(folder_name, f))]\n",
    "print(len(all_folders))"
   ]
  }
 ],
 "metadata": {
  "kernelspec": {
   "display_name": "dotpat",
   "language": "python",
   "name": "python3"
  },
  "language_info": {
   "codemirror_mode": {
    "name": "ipython",
    "version": 3
   },
   "file_extension": ".py",
   "mimetype": "text/x-python",
   "name": "python",
   "nbconvert_exporter": "python",
   "pygments_lexer": "ipython3",
   "version": "3.13.7"
  }
 },
 "nbformat": 4,
 "nbformat_minor": 5
}
