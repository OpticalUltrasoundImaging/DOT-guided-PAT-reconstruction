{
 "cells": [
  {
   "cell_type": "code",
   "execution_count": 1,
   "id": "d84bd2e5",
   "metadata": {},
   "outputs": [
    {
     "name": "stdout",
     "output_type": "stream",
     "text": [
      "Found 31 image folders\n"
     ]
    }
   ],
   "source": [
    "import os\n",
    "import sys\n",
    "from pathlib import Path\n",
    "repo_root = Path.cwd().parent\n",
    "sys.path.append(str(repo_root))\n",
    "\n",
    "folder_name = os.path.join(r'\\\\10.229.121.108','Workspace','PAT LINEAR','PATDOTUS','01')\n",
    "from src.load_data_utils import list_subfolders, linear_us_param\n",
    "all_folders = list_subfolders(folder_name)\n",
    "print(f\"Found {len(all_folders)} image folders\")\n",
    "info = linear_us_param()"
   ]
  },
  {
   "cell_type": "code",
   "execution_count": null,
   "id": "03eaf8bb",
   "metadata": {},
   "outputs": [
    {
     "name": "stdout",
     "output_type": "stream",
     "text": [
      "(2304, 64, 192)\n"
     ]
    },
    {
     "name": "stderr",
     "output_type": "stream",
     "text": [
      "BEAMFORMING:   0%|          | 0/192 [00:00<?, ?it/s]c:\\Users\\Yixiao Lin\\Desktop\\DOT-PAT-repo\\DOT-guided-PAT-reconstruction\\src\\us_utils.py:128: RuntimeWarning: divide by zero encountered in divide\n",
      "  Rx_apod_idx = np.where(h_aper_size >= half_rx_ch, x[None, :] / half_rx_ch, x[None, :] / h_aper_size)\n",
      "c:\\Users\\Yixiao Lin\\Desktop\\DOT-PAT-repo\\DOT-guided-PAT-reconstruction\\src\\us_utils.py:128: RuntimeWarning: invalid value encountered in divide\n",
      "  Rx_apod_idx = np.where(h_aper_size >= half_rx_ch, x[None, :] / half_rx_ch, x[None, :] / h_aper_size)\n",
      "c:\\Users\\Yixiao Lin\\Desktop\\DOT-PAT-repo\\DOT-guided-PAT-reconstruction\\src\\recon_iq_utils.py:150: RuntimeWarning: invalid value encountered in power\n",
      "  square_root4_terms = (kernel_size * mean_sq) ** 0.25\n",
      "                                                              \r"
     ]
    }
   ],
   "source": [
    "from src.us_utils import pe_das_linear\n",
    "import matplotlib.pyplot as plt\n",
    "\n",
    "input_dir = all_folders[24]\n",
    "dB_US = 70\n",
    "apod_method = 'kaiser'\n",
    "coherence_method = 'gsf'\n",
    "RF_Sum, RF_env_raw, US_img = pe_das_linear(input_dir, info, dB_US, apod_method, coherence_method)\n",
    "\n",
    "plt.imshow(US_img, cmap='gray')\n",
    "plt.show()"
   ]
  }
 ],
 "metadata": {
  "kernelspec": {
   "display_name": "dotpat",
   "language": "python",
   "name": "python3"
  },
  "language_info": {
   "codemirror_mode": {
    "name": "ipython",
    "version": 3
   },
   "file_extension": ".py",
   "mimetype": "text/x-python",
   "name": "python",
   "nbconvert_exporter": "python",
   "pygments_lexer": "ipython3",
   "version": "3.13.7"
  }
 },
 "nbformat": 4,
 "nbformat_minor": 5
}
